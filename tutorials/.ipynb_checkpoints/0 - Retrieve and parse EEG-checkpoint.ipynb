{
 "cells": [
  {
   "cell_type": "markdown",
   "metadata": {},
   "source": [
    "# Retrieve\n",
    "\n",
    "You have to download manually the EEG data from https://physionet.org/content/eegmmidb"
   ]
  },
  {
   "cell_type": "markdown",
   "metadata": {},
   "source": [
    "# Parse\n",
    "\n",
    "Go through all subjects from the dataset, read the EDF files and store them into NumPy arrays.\n",
    "\n",
    "**Notes**\n",
    "\n",
    "* You have to download the dataset yourself, and modify the `edf_dir` variable.\n",
    "\n",
    "* In some subjects, we drop the last 170 samples, to make sure equal number of samples across subjects."
   ]
  },
  {
   "cell_type": "code",
   "execution_count": 2,
   "metadata": {},
   "outputs": [],
   "source": [
    "import numpy as np\n",
    "import pyedflib\n",
    "import os"
   ]
  },
  {
   "cell_type": "code",
   "execution_count": 3,
   "metadata": {},
   "outputs": [],
   "source": [
    "eyes_open = np.zeros((109, 64, 9600))\n",
    "eyes_closed = np.zeros((109, 64, 9600))"
   ]
  },
  {
   "cell_type": "markdown",
   "metadata": {},
   "source": [
    "Define the directory where dataset is located "
   ]
  },
  {
   "cell_type": "code",
   "execution_count": 3,
   "metadata": {},
   "outputs": [],
   "source": [
    "edf_dir = '/opt/Temp/physionet.nlm.nih.gov/pn4/eegmmidb/'"
   ]
  },
  {
   "cell_type": "markdown",
   "metadata": {},
   "source": [
    "### Process the baseline file for \"eyes open\" "
   ]
  },
  {
   "cell_type": "code",
   "execution_count": 4,
   "metadata": {},
   "outputs": [],
   "source": [
    "for sub_id in range(0, 109):\n",
    "    subj_prefix = \"S{0:03}\".format(sub_id + 1)\n",
    "    subj_dir = \"{0}/{1}\".format(edf_dir, subj_prefix)\n",
    "    baseline_eyes_open = \"{0}/{1}R01\".format(subj_dir, subj_prefix)\n",
    "    \n",
    "    f = pyedflib.EdfReader(baseline_eyes_open + \".edf\")\n",
    "    a = f.read_annotation()\n",
    "    n = f.signals_in_file\n",
    "    signal_labels = f.getSignalLabels()\n",
    "\n",
    "    for chan in np.arange(n):\n",
    "        eyes_open[sub_id, chan, :] = f.readSignal(chan)[0:9600]"
   ]
  },
  {
   "cell_type": "markdown",
   "metadata": {},
   "source": [
    "### Process the baseline file for \"eyes closed\" "
   ]
  },
  {
   "cell_type": "code",
   "execution_count": 5,
   "metadata": {},
   "outputs": [],
   "source": [
    "for sub_id in range(0, 109):\n",
    "    subj_prefix = \"S{0:03}\".format(sub_id + 1)\n",
    "    subj_dir = \"{0}/{1}\".format(edf_dir, subj_prefix)\n",
    "    baseline_eyes_closed = \"{0}/{1}R02\".format(subj_dir, subj_prefix)\n",
    "    \n",
    "    f = pyedflib.EdfReader(baseline_eyes_closed + \".edf\")\n",
    "    a = f.read_annotation() #baseline_eyes_open + \".edf.event\")\n",
    "    n = f.signals_in_file\n",
    "    signal_labels = f.getSignalLabels()\n",
    "\n",
    "    for chan in np.arange(n):\n",
    "        eyes_closed[sub_id, chan, :] = f.readSignal(chan)[0:9600]"
   ]
  },
  {
   "cell_type": "markdown",
   "metadata": {},
   "source": [
    "### Store files "
   ]
  },
  {
   "cell_type": "code",
   "execution_count": 6,
   "metadata": {},
   "outputs": [],
   "source": [
    "if not os.path.exists(\"data/\"):\n",
    "    os.makedirs(\"data/\")\n",
    "\n",
    "np.save('data/eyes_opened.npy', eyes_open)\n",
    "np.save('data/eyes_closed.npy', eyes_closed)"
   ]
  }
 ],
 "metadata": {
  "kernelspec": {
   "display_name": "Python 3",
   "language": "python",
   "name": "python3"
  },
  "language_info": {
   "codemirror_mode": {
    "name": "ipython",
    "version": 3
   },
   "file_extension": ".py",
   "mimetype": "text/x-python",
   "name": "python",
   "nbconvert_exporter": "python",
   "pygments_lexer": "ipython3",
   "version": "3.7.7"
  }
 },
 "nbformat": 4,
 "nbformat_minor": 2
}

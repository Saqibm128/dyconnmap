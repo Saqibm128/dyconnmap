{
 "cells": [
  {
   "cell_type": "markdown",
   "metadata": {},
   "source": [
    "Go through all subjects from the dataset, read the EDF files and store them into NumPy arrays.\n",
    "\n",
    "**Notes**\n",
    "\n",
    "* In addition to the module's dependacies, please consult the file `requirements.txt` found in the current folder. \n",
    "\n",
    "* In some subjects, we drop the last 170 samples, to make sure equal number of samples across subjects."
   ]
  },
  {
   "cell_type": "code",
   "execution_count": null,
   "metadata": {},
   "outputs": [],
   "source": [
    "import numpy as np\n",
    "import pyedflib # please check the \"requirements.txt\" file\n",
    "import tqdm\n",
    "import pathlib"
   ]
  },
  {
   "cell_type": "markdown",
   "metadata": {},
   "source": [
    "# Fetch the dataset "
   ]
  },
  {
   "cell_type": "markdown",
   "metadata": {},
   "source": [
    "Define the directory where dataset is located "
   ]
  },
  {
   "cell_type": "code",
   "execution_count": null,
   "metadata": {},
   "outputs": [],
   "source": [
    "curr_dir = pathlib.Path(\"./\")"
   ]
  },
  {
   "cell_type": "code",
   "execution_count": null,
   "metadata": {},
   "outputs": [],
   "source": [
    "edf_dir = (curr_dir / \"raw_data/\").resolve()"
   ]
  },
  {
   "cell_type": "code",
   "execution_count": null,
   "metadata": {},
   "outputs": [],
   "source": [
    "if not edf_dir.exists():\n",
    "    try:\n",
    "        edf_dir.mkdir()\n",
    "    except Exeption as err:\n",
    "        print(err)\n",
    "else:\n",
    "    print(f\"\\\"{edf_dir}\\\" already exists.\")"
   ]
  },
  {
   "cell_type": "code",
   "execution_count": null,
   "metadata": {},
   "outputs": [],
   "source": [
    "!wget -P \"$edf_dir\" -c https://physionet.org/static/published-projects/eegmmidb/eeg-motor-movementimagery-dataset-1.0.0.zip"
   ]
  },
  {
   "cell_type": "code",
   "execution_count": null,
   "metadata": {},
   "outputs": [],
   "source": [
    "!unzip \"$edf_dir\"/eeg-motor-movementimagery-dataset-1.0.0.zip -d \"$edf_dir/eeg-motor-movementimagery-dataset/\""
   ]
  },
  {
   "cell_type": "markdown",
   "metadata": {},
   "source": [
    "# Prepare dataset"
   ]
  },
  {
   "cell_type": "code",
   "execution_count": null,
   "metadata": {},
   "outputs": [],
   "source": [
    "dataset_root = f\"{edf_dir}/eeg-motor-movementimagery-dataset/files\""
   ]
  },
  {
   "cell_type": "code",
   "execution_count": null,
   "metadata": {},
   "outputs": [],
   "source": [
    "n_subjects = 106\n",
    "n_rois = 64\n",
    "n_samples = 9600"
   ]
  },
  {
   "cell_type": "code",
   "execution_count": null,
   "metadata": {},
   "outputs": [],
   "source": [
    "eyes_open = np.zeros((n_subjects, n_rois, n_samples))\n",
    "eyes_closed = np.zeros((n_subjects, n_rois, n_samples))"
   ]
  },
  {
   "cell_type": "markdown",
   "metadata": {},
   "source": [
    "## Parse the baseline files for \"eyes open\" "
   ]
  },
  {
   "cell_type": "code",
   "execution_count": null,
   "metadata": {},
   "outputs": [],
   "source": [
    "for sub_id in tqdm.tqdm(range(n_subjects)):\n",
    "    subj_prefix = f\"S{sub_id + 1:03}\"\n",
    "    subj_dir = f\"{dataset_root}/{subj_prefix}\"\n",
    "    \n",
    "    baseline_eyes_open = f\"{subj_dir}/{subj_prefix}R01\"\n",
    "    \n",
    "    edf = pyedflib.EdfReader(baseline_eyes_open + \".edf\")\n",
    "    annot = edf.read_annotation()\n",
    "    n_signals = edf.signals_in_file\n",
    "    signal_labels = edf.getSignalLabels()\n",
    "\n",
    "    for chan in np.arange(n_signals):\n",
    "        eyes_open[sub_id, chan, :] = edf.readSignal(chan)[0:9600]"
   ]
  },
  {
   "cell_type": "markdown",
   "metadata": {},
   "source": [
    "## Parse the baseline files for \"eyes closed\" "
   ]
  },
  {
   "cell_type": "code",
   "execution_count": null,
   "metadata": {},
   "outputs": [],
   "source": [
    "for sub_id in tqdm.tqdm(range(n_subjects)):\n",
    "    subj_prefix = f\"S{sub_id + 1:03}\"\n",
    "    subj_dir = f\"{dataset_root}/{subj_prefix}\"\n",
    "    \n",
    "    baseline_eyes_open = f\"{subj_dir}/{subj_prefix}R02\"\n",
    "    \n",
    "    edf = pyedflib.EdfReader(baseline_eyes_open + \".edf\")\n",
    "    annot = edf.read_annotation()\n",
    "    n_signals = edf.signals_in_file\n",
    "    signal_labels = edf.getSignalLabels()\n",
    "\n",
    "    for chan in np.arange(n_signals):\n",
    "        eyes_closed[sub_id, chan, :] = edf.readSignal(chan)[0:9600]"
   ]
  },
  {
   "cell_type": "markdown",
   "metadata": {},
   "source": [
    "## Dump arrays "
   ]
  },
  {
   "cell_type": "code",
   "execution_count": null,
   "metadata": {},
   "outputs": [],
   "source": [
    "store_dir = (curr_dir / \"data/\").resolve()"
   ]
  },
  {
   "cell_type": "code",
   "execution_count": null,
   "metadata": {},
   "outputs": [],
   "source": [
    "if not store_dir.exists():\n",
    "    try:\n",
    "        store_dir.mkdir()\n",
    "    except Exeption as err:\n",
    "        print(err)\n",
    "else:\n",
    "    print(f\"\\\"{store_dir}\\\" already exists.\")"
   ]
  },
  {
   "cell_type": "code",
   "execution_count": null,
   "metadata": {},
   "outputs": [],
   "source": [
    "np.save(f'{store_dir}/eeg_eyes_opened.npy', eyes_open)\n",
    "np.save(f'{store_dir}/eeg_eyes_closed.npy', eyes_closed)"
   ]
  },
  {
   "cell_type": "code",
   "execution_count": null,
   "metadata": {},
   "outputs": [],
   "source": []
  }
 ],
 "metadata": {
  "kernelspec": {
   "display_name": "Python 3",
   "language": "python",
   "name": "python3"
  },
  "language_info": {
   "codemirror_mode": {
    "name": "ipython",
    "version": 3
   },
   "file_extension": ".py",
   "mimetype": "text/x-python",
   "name": "python",
   "nbconvert_exporter": "python",
   "pygments_lexer": "ipython3",
   "version": "3.8.7"
  }
 },
 "nbformat": 4,
 "nbformat_minor": 4
}

{
 "cells": [
  {
   "cell_type": "code",
   "execution_count": null,
   "metadata": {},
   "outputs": [],
   "source": [
    "%matplotlib inline"
   ]
  },
  {
   "cell_type": "markdown",
   "metadata": {},
   "source": [
    "In this short tutorial, we will build and expand on the previous tutorials by computing the dynamic connectivity, using Time-Varying Functional Connectivity Graphs.\n",
    "\n",
    "In the near future, the standard method of \"sliding window\" will be supported."
   ]
  },
  {
   "cell_type": "markdown",
   "metadata": {},
   "source": [
    "- - -"
   ]
  },
  {
   "cell_type": "markdown",
   "metadata": {},
   "source": [
    "# Load data"
   ]
  },
  {
   "cell_type": "code",
   "execution_count": null,
   "metadata": {},
   "outputs": [],
   "source": [
    "import numpy as np"
   ]
  },
  {
   "cell_type": "code",
   "execution_count": null,
   "metadata": {},
   "outputs": [],
   "source": [
    "import scipy\n",
    "from scipy import io"
   ]
  },
  {
   "cell_type": "code",
   "execution_count": null,
   "metadata": {},
   "outputs": [],
   "source": [
    "eeg = np.load(\"data/eeg_eyes_opened.npy\")\n",
    "\n",
    "num_trials, num_channels, num_samples = np.shape(eeg)"
   ]
  },
  {
   "cell_type": "code",
   "execution_count": null,
   "metadata": {},
   "outputs": [],
   "source": [
    "eeg_ts = np.squeeze(eeg[0, :, :])"
   ]
  },
  {
   "cell_type": "markdown",
   "metadata": {},
   "source": [
    "# Dynamic connectivity\n",
    "\n",
    "As a first example, we are going to compute the static connectivity of the EEG signals using the IPLV estimator."
   ]
  },
  {
   "cell_type": "code",
   "execution_count": null,
   "metadata": {},
   "outputs": [],
   "source": [
    "import warnings\n",
    "warnings.simplefilter(action='ignore', category=FutureWarning)\n",
    "\n",
    "from dyconnmap import tvfcg\n",
    "from dyconnmap.fc import IPLV"
   ]
  },
  {
   "cell_type": "markdown",
   "metadata": {},
   "source": [
    "First, setup the configuration options\n",
    "* frequency band, `fb`\n",
    "* sampling frequency, `fs`\n",
    "* cycle-criterion, `cc`\n",
    "* steping samples, `step`"
   ]
  },
  {
   "cell_type": "code",
   "execution_count": null,
   "metadata": {},
   "outputs": [],
   "source": [
    "fb = [1.0, 4.0]\n",
    "cc = 3.0\n",
    "fs = 160.0\n",
    "step = 32"
   ]
  },
  {
   "cell_type": "markdown",
   "metadata": {},
   "source": [
    "Declare and instantiate which estimator we will use to compute the dynamic connectivity. In this case we use again IPLV.\n",
    "\n",
    "_Notes:_ As one might have noticed, the following line intantiates an object. We only need to pass two parameters, the `fb` and `fs`."
   ]
  },
  {
   "cell_type": "code",
   "execution_count": null,
   "metadata": {},
   "outputs": [],
   "source": [
    "estimator = IPLV(fb, fs)"
   ]
  },
  {
   "cell_type": "markdown",
   "metadata": {},
   "source": [
    "Now we are ready to estimate the dynamic functional connectivity."
   ]
  },
  {
   "cell_type": "code",
   "execution_count": null,
   "metadata": {},
   "outputs": [],
   "source": [
    "fcgs = tvfcg(eeg_ts, estimator, fb, fs, cc, step)"
   ]
  },
  {
   "cell_type": "code",
   "execution_count": null,
   "metadata": {},
   "outputs": [],
   "source": [
    "num_fcgs, num_rois, num_rois = np.shape(fcgs)"
   ]
  },
  {
   "cell_type": "code",
   "execution_count": null,
   "metadata": {},
   "outputs": [],
   "source": [
    "print(f\"{num_fcgs} FCGs of shape {num_rois}x{num_rois}\")"
   ]
  },
  {
   "cell_type": "code",
   "execution_count": null,
   "metadata": {},
   "outputs": [],
   "source": [
    "print(f\"FCGs array data type is {fcgs.dtype}\")"
   ]
  },
  {
   "cell_type": "markdown",
   "metadata": {},
   "source": [
    "Because of the nature of the estimator, notice the FCG's data type; for compatibility reasons, it is `np.complex128`. We have to use `np.real` to get the real part."
   ]
  },
  {
   "cell_type": "code",
   "execution_count": null,
   "metadata": {},
   "outputs": [],
   "source": [
    "rfcgs = np.real(fcgs)"
   ]
  },
  {
   "cell_type": "markdown",
   "metadata": {},
   "source": [
    "# Plot\n",
    "\n",
    "Plot a few FCGs using the standard Matplotlib functions"
   ]
  },
  {
   "cell_type": "code",
   "execution_count": null,
   "metadata": {},
   "outputs": [],
   "source": [
    "import matplotlib.pyplot as plt\n",
    "\n",
    "slices = np.linspace(0, num_fcgs - 1, 5, dtype=np.int32)\n",
    "num_slices = len(slices)\n",
    "\n",
    "mtx_min = 0.0\n",
    "mtx_max = np.max(rfcgs)\n",
    "\n",
    "f, axes = plt.subplots(ncols=num_slices, figsize=(14, 14), dpi=100, sharey=True, sharex=False)\n",
    "for i, s in enumerate(slices):\n",
    "    slice_mtx = rfcgs[s, :, :] + rfcgs[s, :, :].T\n",
    "    np.fill_diagonal(slice_mtx, 1.0)\n",
    "    \n",
    "    cax  = axes[i].imshow(slice_mtx, vmin=mtx_min, vmax=mtx_max, cmap=plt.cm.Spectral)\n",
    "    axes[i].set_title(f'Slice #{s}')\n",
    "    axes[i].set_xlabel(\"ROI\")\n",
    "axes[0].set_ylabel(\"ROI\")\n",
    "    \n",
    "# move the colorbar to the side ;)\n",
    "f.subplots_adjust(right=0.8)\n",
    "cbar_ax = f.add_axes([0.82, 0.445, 0.0125, 0.115])\n",
    "cb = f.colorbar(cax, cax=cbar_ax)\n",
    "cb.set_label('Imaginary PLV')"
   ]
  },
  {
   "cell_type": "code",
   "execution_count": null,
   "metadata": {},
   "outputs": [],
   "source": []
  }
 ],
 "metadata": {
  "kernelspec": {
   "display_name": "Python 3",
   "language": "python",
   "name": "python3"
  },
  "language_info": {
   "codemirror_mode": {
    "name": "ipython",
    "version": 3
   },
   "file_extension": ".py",
   "mimetype": "text/x-python",
   "name": "python",
   "nbconvert_exporter": "python",
   "pygments_lexer": "ipython3",
   "version": "3.8.7"
  }
 },
 "nbformat": 4,
 "nbformat_minor": 4
}

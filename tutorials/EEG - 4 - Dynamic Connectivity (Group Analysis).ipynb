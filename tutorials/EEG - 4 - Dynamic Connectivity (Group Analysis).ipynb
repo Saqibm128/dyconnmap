{
 "cells": [
  {
   "cell_type": "code",
   "execution_count": null,
   "metadata": {},
   "outputs": [],
   "source": [
    "%matplotlib inline"
   ]
  },
  {
   "cell_type": "markdown",
   "metadata": {},
   "source": [
    "In this short tutorial, we will build and expand on the previous tutorials by computing the dynamic connectivity, using Time-Varying Functional Connectivity Graphs.\n",
    "\n",
    "In the near future, the standard method of \"sliding window\" will be supported."
   ]
  },
  {
   "cell_type": "markdown",
   "metadata": {},
   "source": [
    "- - -"
   ]
  },
  {
   "cell_type": "markdown",
   "metadata": {},
   "source": [
    "# Load data"
   ]
  },
  {
   "cell_type": "code",
   "execution_count": null,
   "metadata": {},
   "outputs": [],
   "source": [
    "import numpy as np\n",
    "import tqdm"
   ]
  },
  {
   "cell_type": "code",
   "execution_count": null,
   "metadata": {},
   "outputs": [],
   "source": [
    "raw_eeg_eyes_open = np.load(\"data/eeg_eyes_opened.npy\")\n",
    "raw_eeg_eyes_closed = np.load(\"data/eeg_eyes_closed.npy\")\n",
    "\n",
    "num_trials, num_channels, num_samples = np.shape(raw_eeg_eyes_open)\n",
    "\n",
    "read_trials = 10"
   ]
  },
  {
   "cell_type": "code",
   "execution_count": null,
   "metadata": {},
   "outputs": [],
   "source": [
    "eeg_eyes_open = raw_eeg_eyes_open[0:read_trials, ...]\n",
    "eeg_eyes_closed = raw_eeg_eyes_closed[0:read_trials, ...]"
   ]
  },
  {
   "cell_type": "markdown",
   "metadata": {},
   "source": [
    "# Dynamic connectivity"
   ]
  },
  {
   "cell_type": "markdown",
   "metadata": {},
   "source": [
    "## Prepare and configure the estimator object"
   ]
  },
  {
   "cell_type": "code",
   "execution_count": null,
   "metadata": {},
   "outputs": [],
   "source": [
    "import warnings\n",
    "warnings.simplefilter(action='ignore', category=FutureWarning)\n",
    "\n",
    "from dyconnmap import tvfcg\n",
    "from dyconnmap.fc import IPLV"
   ]
  },
  {
   "cell_type": "code",
   "execution_count": null,
   "metadata": {},
   "outputs": [],
   "source": [
    "fb = [7.0, 13.0]\n",
    "cc = 4.0\n",
    "fs = 160.0\n",
    "step = 80"
   ]
  },
  {
   "cell_type": "code",
   "execution_count": null,
   "metadata": {},
   "outputs": [],
   "source": [
    "estimator = IPLV(fb, fs)"
   ]
  },
  {
   "cell_type": "markdown",
   "metadata": {},
   "source": [
    "## Process condition \"eyes open\" "
   ]
  },
  {
   "cell_type": "code",
   "execution_count": null,
   "metadata": {},
   "outputs": [],
   "source": [
    "X = np.squeeze(eeg_eyes_open[0])\n",
    "fcgs = tvfcg(X, estimator, fb, fs, cc, step)\n",
    "\n",
    "fcgs_eyes_open = np.array(np.real(fcgs))\n",
    "\n",
    "for i in tqdm.tqdm(range(1, read_trials)):\n",
    "    X = np.squeeze(eeg_eyes_open[i])\n",
    "    fcgs = tvfcg(X, estimator, fb, fs, cc, step)\n",
    "        \n",
    "    fcgs_eyes_open = np.vstack([fcgs_eyes_open, np.real(fcgs)])"
   ]
  },
  {
   "cell_type": "markdown",
   "metadata": {},
   "source": [
    "## Process condition \"eyes closed\""
   ]
  },
  {
   "cell_type": "code",
   "execution_count": null,
   "metadata": {},
   "outputs": [],
   "source": [
    "X = np.squeeze(eeg_eyes_closed[0])\n",
    "fcgs = tvfcg(X, estimator, fb, fs, cc, step)\n",
    "\n",
    "fcgs_eyes_closed = np.array(np.real(fcgs))\n",
    "\n",
    "for i in tqdm.tqdm(range(1, read_trials)):\n",
    "    X = np.squeeze(eeg_eyes_closed[i])\n",
    "    fcgs = tvfcg(X, estimator, fb, fs, cc, step)\n",
    "        \n",
    "    fcgs_eyes_closed = np.vstack([fcgs_eyes_closed, np.real(fcgs)])"
   ]
  },
  {
   "cell_type": "markdown",
   "metadata": {},
   "source": [
    "## FCμstates / Clustering"
   ]
  },
  {
   "cell_type": "code",
   "execution_count": null,
   "metadata": {},
   "outputs": [],
   "source": [
    "from dyconnmap.cluster import NeuralGas"
   ]
  },
  {
   "cell_type": "code",
   "execution_count": null,
   "metadata": {},
   "outputs": [],
   "source": [
    "num_fcgs_eo, _, _ = np.shape(fcgs_eyes_open)\n",
    "num_fcgs_ec, _, _ = np.shape(fcgs_eyes_closed)"
   ]
  },
  {
   "cell_type": "code",
   "execution_count": null,
   "metadata": {},
   "outputs": [],
   "source": [
    "fcgs = np.vstack([fcgs_eyes_open, fcgs_eyes_closed])\n",
    "num_fcgs, num_channels, num_channels = np.shape(fcgs)\n",
    "\n",
    "triu_ind = np.triu_indices_from(np.squeeze(fcgs[0, ...]), k=1)\n",
    "\n",
    "fcgs = fcgs[:, triu_ind[0], triu_ind[1]]"
   ]
  },
  {
   "cell_type": "code",
   "execution_count": null,
   "metadata": {},
   "outputs": [],
   "source": [
    "rng = np.random.RandomState(0)\n",
    "\n",
    "mdl = NeuralGas(n_protos=5, rng=rng).fit(fcgs)\n",
    "encoding, symbols = mdl.encode(fcgs)"
   ]
  },
  {
   "cell_type": "markdown",
   "metadata": {},
   "source": [
    "### Separate the encoded symbols based on their original groupings"
   ]
  },
  {
   "cell_type": "code",
   "execution_count": null,
   "metadata": {},
   "outputs": [],
   "source": [
    "grp_dist_eo = symbols[0:num_fcgs_eo]\n",
    "grp_dist_ec = symbols[num_fcgs_eo:]"
   ]
  },
  {
   "cell_type": "markdown",
   "metadata": {},
   "source": [
    "### Plot"
   ]
  },
  {
   "cell_type": "code",
   "execution_count": null,
   "metadata": {},
   "outputs": [],
   "source": [
    "h_grp_dist_eo = np.histogram(grp_dist_eo, bins=mdl.n_protos, normed=True)\n",
    "h_grp_dist_ec = np.histogram(grp_dist_ec, bins=mdl.n_protos, normed=True)"
   ]
  },
  {
   "cell_type": "code",
   "execution_count": null,
   "metadata": {},
   "outputs": [],
   "source": [
    "import matplotlib.pyplot as plt\n",
    "\n",
    "fig, ax = plt.subplots(figsize=(12, 6))\n",
    "\n",
    "ind = np.arange(mdl.n_protos)\n",
    "p1 = ax.bar(ind - 0.125, h_grp_dist_ec[0], 0.25, label='Eyes Closed')\n",
    "p2 = ax.bar(ind + 0.125, h_grp_dist_eo[0], 0.25, label='Eyes Open')\n",
    "\n",
    "ax.legend()\n",
    "ax.set_xlabel('Symbol Index')\n",
    "ax.set_ylabel('Hits %')\n",
    "ax.set_xticks(np.arange(mdl.n_protos))\n",
    "plt.show()"
   ]
  },
  {
   "cell_type": "markdown",
   "metadata": {},
   "source": [
    "Convert state prototypes to symmetric matrices and plot them"
   ]
  },
  {
   "cell_type": "code",
   "execution_count": null,
   "metadata": {},
   "outputs": [],
   "source": [
    "protos_mtx = np.zeros((mdl.n_protos, 64, 64))\n",
    "\n",
    "for i in range(mdl.n_protos):\n",
    "    symbol_state = np.zeros((64, 64))\n",
    "    symbol_state[triu_ind] = mdl.protos[i, :]\n",
    "    symbol_state = symbol_state + symbol_state.T\n",
    "    np.fill_diagonal(symbol_state, 1.0)\n",
    "    \n",
    "    protos_mtx[i, :, :] = symbol_state"
   ]
  },
  {
   "cell_type": "code",
   "execution_count": null,
   "metadata": {},
   "outputs": [],
   "source": [
    "mtx_min = np.min(protos_mtx)\n",
    "mtx_max = np.max(protos_mtx)\n",
    "\n",
    "f, ax = plt.subplots(ncols=mdl.n_protos, figsize=(12, 12))\n",
    "for i in range(mdl.n_protos):\n",
    "    cax = ax[i].imshow(np.squeeze(protos_mtx[i,...]), vmin=mtx_min, vmax=mtx_max, cmap=plt.cm.Spectral)\n",
    "    ax[i].set_title('#{0}'.format(i))\n",
    "\n",
    "# move the colorbar to the side ;)\n",
    "f.subplots_adjust(right=0.8)\n",
    "cbar_ax = f.add_axes([0.82, 0.445, 0.0125, 0.115])\n",
    "cb = f.colorbar(cax, cax=cbar_ax)\n",
    "cb.set_label('Imaginary PLV')"
   ]
  },
  {
   "cell_type": "markdown",
   "metadata": {},
   "source": [
    "### Separate symbols per subject\n",
    "\n",
    "Now we would like to analyze the symbols per subject, per group.\n"
   ]
  },
  {
   "cell_type": "code",
   "execution_count": null,
   "metadata": {},
   "outputs": [],
   "source": [
    "grp_sym_eo = np.array_split(grp_dist_eo, 10, axis=0)\n",
    "grp_sym_ec = np.array_split(grp_dist_ec, 10, axis=0)"
   ]
  },
  {
   "cell_type": "markdown",
   "metadata": {},
   "source": [
    "#### Examine the first subject "
   ]
  },
  {
   "cell_type": "code",
   "execution_count": null,
   "metadata": {},
   "outputs": [],
   "source": [
    "subj1_eyes_open = grp_sym_eo[0]\n",
    "subj1_eyes_closed = grp_sym_ec[0]"
   ]
  },
  {
   "cell_type": "code",
   "execution_count": null,
   "metadata": {},
   "outputs": [],
   "source": [
    "from dyconnmap.ts import markov_matrix"
   ]
  },
  {
   "cell_type": "code",
   "execution_count": null,
   "metadata": {},
   "outputs": [],
   "source": [
    "markov_matrix_eo = markov_matrix(subj1_eyes_open)\n",
    "markov_matrix_ec = markov_matrix(subj1_eyes_closed)"
   ]
  },
  {
   "cell_type": "code",
   "execution_count": null,
   "metadata": {},
   "outputs": [],
   "source": [
    "from mpl_toolkits.axes_grid1 import ImageGrid\n",
    "f = plt.figure(figsize=(8, 6))\n",
    "grid = ImageGrid(f, 111,\n",
    "                 nrows_ncols=(1,2),\n",
    "                 axes_pad=0.15,\n",
    "                 share_all=True,\n",
    "                 cbar_location=\"right\",\n",
    "                 cbar_mode=\"single\",\n",
    "                 cbar_size=\"7%\",\n",
    "                 cbar_pad=0.15,\n",
    "                 )\n",
    "im = grid[0].imshow(markov_matrix_eo, vmin=0.0, vmax=1.0, cmap=plt.cm.Spectral)\n",
    "grid[0].set_xlabel('Prototype')\n",
    "grid[0].set_ylabel('Prototype')\n",
    "grid[0].set_title('Eyes Open')\n",
    "\n",
    "im = grid[1].imshow(markov_matrix_ec, vmin=0.0, vmax=1.0, cmap=plt.cm.Spectral)\n",
    "grid[1].set_xlabel('Prototype')\n",
    "grid[1].set_ylabel('Prototype')\n",
    "grid[1].set_title('Eyes Close')\n",
    "\n",
    "cb = grid[1].cax.colorbar(im)\n",
    "cax = grid.cbar_axes[0]\n",
    "axis = cax.axis[cax.orientation]\n",
    "axis.label.set_text(\"Transition Probability\")\n",
    "\n",
    "plt.show()"
   ]
  },
  {
   "cell_type": "code",
   "execution_count": null,
   "metadata": {},
   "outputs": [],
   "source": [
    "from dyconnmap.ts import transition_rate, occupancy_time"
   ]
  },
  {
   "cell_type": "code",
   "execution_count": null,
   "metadata": {},
   "outputs": [],
   "source": [
    "tr_eo = transition_rate(subj1_eyes_open)\n",
    "tr_ec = transition_rate(subj1_eyes_closed)\n",
    "\n",
    "print(f\"\"\"\n",
    "Transition rate\n",
    "===============\n",
    "  Eyes open: {tr_eo:.3f}\n",
    "Eyes closed: {tr_ec:.3f}\n",
    "\"\"\")"
   ]
  },
  {
   "cell_type": "code",
   "execution_count": null,
   "metadata": {},
   "outputs": [],
   "source": [
    "occ_eo = occupancy_time(subj1_eyes_open)[0]\n",
    "occ_ec = occupancy_time(subj1_eyes_closed)[0]\n",
    "\n",
    "print(\"\"\"\n",
    "Occupancy time\n",
    "==============\n",
    "      State \\t 0 \\t 1 \\t 2 \\t 3 \\t 4\n",
    "      -----\n",
    "  Eyes open \\t {0:.3f} \\t {1:.3f} \\t {2:.3f} \\t {3:.3f} \\t {4:.3f}\n",
    "Eyes closed \\t {5:.3f} \\t {6:.3f} \\t {7:.3f} \\t {8:.3f} \\t {9:.3f}\n",
    "\"\"\".format(*occ_eo, *occ_ec))"
   ]
  },
  {
   "cell_type": "code",
   "execution_count": null,
   "metadata": {},
   "outputs": [],
   "source": []
  },
  {
   "cell_type": "code",
   "execution_count": null,
   "metadata": {},
   "outputs": [],
   "source": []
  }
 ],
 "metadata": {
  "kernelspec": {
   "display_name": "Python 3",
   "language": "python",
   "name": "python3"
  },
  "language_info": {
   "codemirror_mode": {
    "name": "ipython",
    "version": 3
   },
   "file_extension": ".py",
   "mimetype": "text/x-python",
   "name": "python",
   "nbconvert_exporter": "python",
   "pygments_lexer": "ipython3",
   "version": "3.8.7"
  }
 },
 "nbformat": 4,
 "nbformat_minor": 4
}

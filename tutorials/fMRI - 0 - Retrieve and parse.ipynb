{
 "cells": [
  {
   "cell_type": "markdown",
   "metadata": {},
   "source": [
    "The fMRI time series are taken from https://paris-saclay-cds.github.io/autism_challenge/.\n",
    "\n",
    "Check out their GitHub repository at: https://github.com/ramp-kits/autism/.\n",
    "\n",
    "If you run this notebook on Binder, the data have already been downloaded automatically for you."
   ]
  },
  {
   "cell_type": "code",
   "execution_count": null,
   "metadata": {},
   "outputs": [],
   "source": [
    "import numpy as np\n",
    "import pandas as pd\n",
    "import os\n",
    "import pathlib"
   ]
  },
  {
   "cell_type": "markdown",
   "metadata": {},
   "source": [
    "# Fetch the dataset"
   ]
  },
  {
   "cell_type": "markdown",
   "metadata": {},
   "source": [
    "Below you may find some general instructions how to fetch the dataset."
   ]
  },
  {
   "cell_type": "markdown",
   "metadata": {},
   "source": [
    "1. `cd /opt/Temp/`\n",
    "2. `git clone https://github.com/ramp-kits/autism.git`\n",
    "3. `cd autism/data/fmri/`\n",
    "4. `wget -c wget https://zenodo.org/record/3625740/files/msdl.zip`\n",
    "5. `unzip msdl.zip`"
   ]
  },
  {
   "cell_type": "markdown",
   "metadata": {},
   "source": [
    "# Parse dataset "
   ]
  },
  {
   "cell_type": "code",
   "execution_count": null,
   "metadata": {},
   "outputs": [],
   "source": [
    "curr_dir = pathlib.Path(\"./\")\n",
    "rsfmri_basedir = (curr_dir / \"autism/\").resolve()"
   ]
  },
  {
   "cell_type": "markdown",
   "metadata": {},
   "source": [
    "The following code is heavily based on the code provided by the competition's organizers. "
   ]
  },
  {
   "cell_type": "code",
   "execution_count": null,
   "metadata": {},
   "outputs": [],
   "source": [
    "def parse_dataset():\n",
    "    _target_column_name = 'asd'\n",
    "    _prediction_label_names = [0, 1]\n",
    "    \n",
    "    subject_id = pd.read_csv(os.path.join(rsfmri_basedir, 'data', 'train.csv'), header=None)\n",
    "    # read the list of the subjects\n",
    "    df_participants = pd.read_csv(os.path.join(rsfmri_basedir, 'data', 'participants.csv'), index_col=0)\n",
    "    df_participants.columns = ['participants_' + col for col in df_participants.columns]\n",
    "    \n",
    "    # load the structural and functional MRI data\n",
    "    df_anatomy = pd.read_csv(os.path.join(rsfmri_basedir, 'data', 'anatomy.csv'), index_col=0)\n",
    "    df_anatomy.columns = ['anatomy_' + col for col in df_anatomy.columns]\n",
    "    df_fmri = pd.read_csv(os.path.join(rsfmri_basedir, 'data', 'fmri_filename.csv'), index_col=0)\n",
    "    df_fmri.columns = ['fmri_' + col for col in df_fmri.columns]\n",
    "    \n",
    "    # load the QC for structural and functional MRI data\n",
    "    df_anatomy_qc = pd.read_csv(os.path.join(rsfmri_basedir, 'data', 'anatomy_qc.csv'), index_col=0)\n",
    "    df_fmri_qc = pd.read_csv(os.path.join(rsfmri_basedir, 'data', 'fmri_qc.csv'), index_col=0)\n",
    "    \n",
    "    # rename the columns for the QC to have distinct names\n",
    "    df_anatomy_qc = df_anatomy_qc.rename(columns={\"select\": \"anatomy_select\"})\n",
    "    df_fmri_qc = df_fmri_qc.rename(columns={\"select\": \"fmri_select\"})\n",
    "\n",
    "    X = pd.concat([df_participants, df_anatomy, df_anatomy_qc, df_fmri, df_fmri_qc], axis=1)\n",
    "    X = X.loc[subject_id[0]]\n",
    "    \n",
    "    y = X['participants_asd']\n",
    "    y.columns = [_target_column_name]\n",
    "    \n",
    "    X = X.drop('participants_asd', axis=1)\n",
    "\n",
    "    return X, y.values"
   ]
  },
  {
   "cell_type": "code",
   "execution_count": null,
   "metadata": {},
   "outputs": [],
   "source": [
    "data, labels = parse_dataset()"
   ]
  },
  {
   "cell_type": "code",
   "execution_count": null,
   "metadata": {},
   "outputs": [],
   "source": [
    "fmri_data = data[[col for col in data.columns if col.startswith('fmri')]]"
   ]
  },
  {
   "cell_type": "code",
   "execution_count": null,
   "metadata": {},
   "outputs": [],
   "source": [
    "fmri_msdl_filenames = fmri_data['fmri_msdl']"
   ]
  },
  {
   "cell_type": "code",
   "execution_count": null,
   "metadata": {},
   "outputs": [],
   "source": [
    "fmri = np.array([pd.read_csv(rsfmri_basedir + \"/\" + subject_filename, header=None).values \n",
    "                 for subject_filename in fmri_msdl_filenames])"
   ]
  },
  {
   "cell_type": "code",
   "execution_count": null,
   "metadata": {},
   "outputs": [],
   "source": [
    "anatomy = data[[col for col in data.columns if col.startswith('anatomy')]]\n",
    "anatomy = anatomy.drop(columns='anatomy_select')"
   ]
  },
  {
   "cell_type": "markdown",
   "metadata": {},
   "source": [
    "# Dump arrays"
   ]
  },
  {
   "cell_type": "code",
   "execution_count": null,
   "metadata": {},
   "outputs": [],
   "source": [
    "np.save('data/fmri_autism_ts.npy', fmri)\n",
    "np.save('data/fmri_autism_anatomy.npy', anatomy)\n",
    "np.save('data/fmri_autism_labels.npy', labels)"
   ]
  }
 ],
 "metadata": {
  "kernelspec": {
   "display_name": "Python 3",
   "language": "python",
   "name": "python3"
  },
  "language_info": {
   "codemirror_mode": {
    "name": "ipython",
    "version": 3
   },
   "file_extension": ".py",
   "mimetype": "text/x-python",
   "name": "python",
   "nbconvert_exporter": "python",
   "pygments_lexer": "ipython3",
   "version": "3.9.2"
  }
 },
 "nbformat": 4,
 "nbformat_minor": 4
}

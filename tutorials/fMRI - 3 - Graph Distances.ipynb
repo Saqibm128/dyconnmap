{
 "cells": [
  {
   "cell_type": "code",
   "execution_count": null,
   "metadata": {},
   "outputs": [],
   "source": [
    "%matplotlib inline"
   ]
  },
  {
   "cell_type": "markdown",
   "metadata": {},
   "source": [
    "In this short tutorial, we will demonstrate how to use measure the distance between two graphs, based on the supplied methods.\n",
    "\n",
    "- - -\n"
   ]
  },
  {
   "cell_type": "markdown",
   "metadata": {},
   "source": [
    "# Load and prepare data "
   ]
  },
  {
   "cell_type": "code",
   "execution_count": null,
   "metadata": {},
   "outputs": [],
   "source": [
    "import sys"
   ]
  },
  {
   "cell_type": "code",
   "execution_count": null,
   "metadata": {},
   "outputs": [],
   "source": [
    "import numpy as np\n",
    "np.set_printoptions(threshold=sys.maxsize)"
   ]
  },
  {
   "cell_type": "code",
   "execution_count": null,
   "metadata": {},
   "outputs": [],
   "source": [
    "labels = np.load('data/fmri_autism_labels.npy')\n",
    "data = np.load('data/fmri_autism_thres_conn_mtx.npy')"
   ]
  },
  {
   "cell_type": "code",
   "execution_count": null,
   "metadata": {},
   "outputs": [],
   "source": [
    "labels = np.array(labels).astype(np.int32)"
   ]
  },
  {
   "cell_type": "code",
   "execution_count": null,
   "metadata": {},
   "outputs": [],
   "source": [
    "con_indices = np.where(labels == 0)[0]\n",
    "aut_indices = np.where(labels == 1)[0]"
   ]
  },
  {
   "cell_type": "code",
   "execution_count": null,
   "metadata": {},
   "outputs": [],
   "source": [
    "con_indices = con_indices[0:10]\n",
    "aut_indices = aut_indices[0:10]"
   ]
  },
  {
   "cell_type": "code",
   "execution_count": null,
   "metadata": {},
   "outputs": [],
   "source": [
    "ordered_data = np.vstack([data[con_indices, :, :],\n",
    "                          data[aut_indices, :, :],\n",
    "])\n",
    "\n",
    "ordered_data = np.abs(ordered_data)"
   ]
  },
  {
   "cell_type": "code",
   "execution_count": null,
   "metadata": {},
   "outputs": [],
   "source": [
    "num_subjects, num_rois, num_rois = np.shape(ordered_data)"
   ]
  },
  {
   "cell_type": "code",
   "execution_count": null,
   "metadata": {},
   "outputs": [],
   "source": [
    "print(f\"\"\"\n",
    "            Subjects: {num_subjects}\n",
    "Coonnectivity Matrix: {num_rois}x{num_rois}\n",
    "\"\"\")"
   ]
  },
  {
   "cell_type": "markdown",
   "metadata": {},
   "source": [
    "# Estimate the distances"
   ]
  },
  {
   "cell_type": "code",
   "execution_count": null,
   "metadata": {},
   "outputs": [],
   "source": [
    "from dyconnmap.graphs import graph_diffusion_distance, im_distance, spectral_euclidean_distance, spectral_k_distance"
   ]
  },
  {
   "cell_type": "code",
   "execution_count": null,
   "metadata": {},
   "outputs": [],
   "source": [
    "methods = {\n",
    "    'gdd': graph_diffusion_distance,\n",
    "    'imd': im_distance,\n",
    "    'spectral': spectral_euclidean_distance,\n",
    "    'k_spectral': spectral_k_distance\n",
    "}"
   ]
  },
  {
   "cell_type": "code",
   "execution_count": null,
   "metadata": {},
   "outputs": [],
   "source": [
    "results = dict()"
   ]
  },
  {
   "cell_type": "code",
   "execution_count": null,
   "metadata": {},
   "outputs": [],
   "source": [
    "for name, func in methods.items():\n",
    "    print('- Running method {0}...'.format(name), end=' ')\n",
    "    \n",
    "    distances = np.zeros((num_subjects, num_subjects))\n",
    "    \n",
    "    for x in range(num_subjects):\n",
    "        for y in range(num_subjects):            \n",
    "            mtx1 = ordered_data[x, :, :]\n",
    "            mtx2 = ordered_data[y, :, :]\n",
    "            \n",
    "            # Workdaround until `spectral_k_distance`\n",
    "            # gets a default value in its implementation.\n",
    "            if name == 'k_spectral':\n",
    "                method_distance = func(mtx1, mtx2, k=5)\n",
    "            else:\n",
    "                method_distance = func(mtx1, mtx2)\n",
    "            \n",
    "            if name == 'gdd':\n",
    "                method_distance = method_distance[0]\n",
    "            \n",
    "            distances[x, y] = method_distance\n",
    "    \n",
    "    results[name] = distances\n",
    "    \n",
    "    print('Done.')"
   ]
  },
  {
   "cell_type": "markdown",
   "metadata": {},
   "source": [
    "# Plot "
   ]
  },
  {
   "cell_type": "markdown",
   "metadata": {},
   "source": [
    "Plot the distance matrices"
   ]
  },
  {
   "cell_type": "code",
   "execution_count": null,
   "metadata": {},
   "outputs": [],
   "source": [
    "import matplotlib.pyplot as plt"
   ]
  },
  {
   "cell_type": "code",
   "execution_count": null,
   "metadata": {},
   "outputs": [],
   "source": [
    "plot_labels = np.hstack([10 * ['CON'], 10 * ['AUT']])"
   ]
  },
  {
   "cell_type": "code",
   "execution_count": null,
   "metadata": {},
   "outputs": [],
   "source": [
    "f, axes = plt.subplots(ncols=4, figsize=(16, 4), sharex=True, sharey=True)\n",
    "\n",
    "for i, (name, mtx) in enumerate(results.items()):\n",
    "    im = axes[i].imshow(mtx, cmap=plt.cm.Spectral)\n",
    "    f.colorbar(im, ax=axes[i], )\n",
    "    axes[i].set_title(name)\n",
    "    axes[i].set_aspect('auto')\n",
    "    axes[i].set_xticks(range(20))\n",
    "    axes[i].set_xticklabels(plot_labels, fontsize=8, rotation=90)\n",
    "\n",
    "plt.yticks(range(20), plot_labels, fontsize=8)\n",
    "plt.tight_layout(h_pad=1)\n",
    "plt.show()"
   ]
  },
  {
   "cell_type": "markdown",
   "metadata": {},
   "source": [
    "Project the Graph Diffusion Distance matrix to two dimensions, using MDS"
   ]
  },
  {
   "cell_type": "code",
   "execution_count": null,
   "metadata": {},
   "outputs": [],
   "source": [
    "from sklearn.manifold import MDS"
   ]
  },
  {
   "cell_type": "code",
   "execution_count": null,
   "metadata": {},
   "outputs": [],
   "source": [
    "mds = MDS(n_components=2, dissimilarity='precomputed', random_state=0)\n",
    "xy = mds.fit_transform(results['spectral'])"
   ]
  },
  {
   "cell_type": "code",
   "execution_count": null,
   "metadata": {},
   "outputs": [],
   "source": [
    "plot_labels = np.vstack([np.ones((10, 1)), np.ones((10, 1)) * 2]).squeeze()\n",
    "\n",
    "plt.figure(figsize=(6, 6))\n",
    "s1 = plt.scatter(xy[0:10, 0], xy[0:10, 1], marker='x', c='g', s=50, edgecolors='w', zorder=1000, label='CON')\n",
    "s2 = plt.scatter(xy[10:, 0], xy[10:, 1], marker='d', c='b', s=50, edgecolors='w', zorder=1000, label='AUT')\n",
    "plt.axis('equal')\n",
    "plt.grid(alpha=0.25)\n",
    "plt.legend()\n",
    "plt.title('MDS GDD')\n",
    "plt.show()"
   ]
  },
  {
   "cell_type": "code",
   "execution_count": null,
   "metadata": {},
   "outputs": [],
   "source": []
  }
 ],
 "metadata": {
  "kernelspec": {
   "display_name": "Python 3",
   "language": "python",
   "name": "python3"
  },
  "language_info": {
   "codemirror_mode": {
    "name": "ipython",
    "version": 3
   },
   "file_extension": ".py",
   "mimetype": "text/x-python",
   "name": "python",
   "nbconvert_exporter": "python",
   "pygments_lexer": "ipython3",
   "version": "3.8.7"
  }
 },
 "nbformat": 4,
 "nbformat_minor": 4
}
